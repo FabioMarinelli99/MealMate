{
 "cells": [
  {
   "cell_type": "code",
   "execution_count": 1,
   "metadata": {
    "ExecuteTime": {
     "end_time": "2024-03-21T20:23:14.271588700Z",
     "start_time": "2024-03-21T20:23:11.635503600Z"
    }
   },
   "outputs": [
    {
     "name": "stderr",
     "output_type": "stream",
     "text": [
      "C:\\Users\\g.casari\\AppData\\Roaming\\Python\\Python39\\site-packages\\transformers\\utils\\generic.py:441: UserWarning: torch.utils._pytree._register_pytree_node is deprecated. Please use torch.utils._pytree.register_pytree_node instead.\n",
      "  _torch_pytree._register_pytree_node(\n"
     ]
    }
   ],
   "source": [
    "import os\n",
    "import torch\n",
    "import numpy as np\n",
    "from loader import FoodDataset\n",
    "import json\n",
    "\n"
   ]
  },
  {
   "cell_type": "code",
   "execution_count": 2,
   "metadata": {
    "ExecuteTime": {
     "end_time": "2024-03-21T20:31:25.910892800Z",
     "start_time": "2024-03-21T20:23:15.074166800Z"
    }
   },
   "outputs": [
    {
     "name": "stderr",
     "output_type": "stream",
     "text": [
      "pre-processing..:  28%|██▊       | 760/2758 [02:25<04:15,  7.82it/s]"
     ]
    },
    {
     "name": "stdout",
     "output_type": "stream",
     "text": [
      "Problems with data in dish_1558109714.. skipping.\n",
      "Problems with data in dish_1558109714.. skipping.\n",
      "Problems with data in dish_1558109714.. skipping.\n"
     ]
    },
    {
     "name": "stderr",
     "output_type": "stream",
     "text": [
      "pre-processing..:  53%|█████▎    | 1451/2758 [04:28<03:44,  5.83it/s]"
     ]
    },
    {
     "name": "stdout",
     "output_type": "stream",
     "text": [
      "Problems with data in dish_1564159636.. skipping.\n",
      "Problems with data in dish_1564159636.. skipping.\n",
      "Problems with data in dish_1564159636.. skipping.\n"
     ]
    },
    {
     "name": "stderr",
     "output_type": "stream",
     "text": [
      "pre-processing..:  56%|█████▌    | 1532/2758 [04:42<02:48,  7.28it/s]"
     ]
    },
    {
     "name": "stdout",
     "output_type": "stream",
     "text": [
      "Problems with data in dish_1557862384.. skipping.\n",
      "Problems with data in dish_1557862384.. skipping.\n",
      "Problems with data in dish_1557862384.. skipping.\n"
     ]
    },
    {
     "name": "stderr",
     "output_type": "stream",
     "text": [
      "pre-processing..:  88%|████████▊ | 2419/2758 [07:13<00:43,  7.80it/s]"
     ]
    },
    {
     "name": "stdout",
     "output_type": "stream",
     "text": [
      "Problems with data in dish_1558109511.. skipping.\n",
      "Problems with data in dish_1558109511.. skipping.\n",
      "Problems with data in dish_1558109511.. skipping.\n"
     ]
    },
    {
     "name": "stderr",
     "output_type": "stream",
     "text": [
      "pre-processing..: 100%|██████████| 2758/2758 [08:10<00:00,  5.62it/s]\n"
     ]
    }
   ],
   "source": [
    "train_dataset = FoodDataset(mode=\"train\")"
   ]
  },
  {
   "cell_type": "code",
   "execution_count": 3,
   "metadata": {
    "ExecuteTime": {
     "end_time": "2024-03-21T20:34:07.796635500Z",
     "start_time": "2024-03-21T20:34:07.690582500Z"
    }
   },
   "outputs": [
    {
     "name": "stdout",
     "output_type": "stream",
     "text": [
      "torch.Size([8262, 4])\n",
      "Not empty classes:  4\n"
     ]
    }
   ],
   "source": [
    "labels = torch.stack(train_dataset.labels, dim=0)\n",
    "print(labels.shape)\n",
    "\n",
    "avg = torch.mean(labels, dim=0)\n",
    "print(\"Not empty classes: \",torch.count_nonzero(avg).item())\n",
    "\n",
    "var = torch.var(labels, dim=0)\n",
    "var[avg == 0] = 1.0\n",
    "avg = avg.numpy()\n",
    "var = var.numpy()\n",
    "\n"
   ]
  },
  {
   "cell_type": "code",
   "execution_count": 4,
   "metadata": {
    "ExecuteTime": {
     "end_time": "2024-03-21T21:00:53.360348300Z",
     "start_time": "2024-03-21T21:00:53.318736700Z"
    }
   },
   "outputs": [],
   "source": [
    "np.save(\"dataset4_avg\", avg)\n",
    "np.save(\"dataset4_var\", var)"
   ]
  },
  {
   "cell_type": "code",
   "execution_count": null,
   "outputs": [],
   "source": [],
   "metadata": {
    "collapsed": false
   }
  }
 ],
 "metadata": {
  "kernelspec": {
   "display_name": "venv",
   "language": "python",
   "name": "python3"
  },
  "language_info": {
   "codemirror_mode": {
    "name": "ipython",
    "version": 3
   },
   "file_extension": ".py",
   "mimetype": "text/x-python",
   "name": "python",
   "nbconvert_exporter": "python",
   "pygments_lexer": "ipython3",
   "version": "3.9.18"
  }
 },
 "nbformat": 4,
 "nbformat_minor": 2
}
