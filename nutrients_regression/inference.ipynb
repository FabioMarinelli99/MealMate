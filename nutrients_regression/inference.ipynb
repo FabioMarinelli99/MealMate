{
 "cells": [
  {
   "cell_type": "code",
   "execution_count": 1,
   "metadata": {
    "ExecuteTime": {
     "end_time": "2024-03-21T18:44:31.756992700Z",
     "start_time": "2024-03-21T18:44:28.969375100Z"
    }
   },
   "outputs": [
    {
     "name": "stderr",
     "output_type": "stream",
     "text": [
      "C:\\Users\\g.casari\\AppData\\Roaming\\Python\\Python39\\site-packages\\transformers\\utils\\generic.py:441: UserWarning: torch.utils._pytree._register_pytree_node is deprecated. Please use torch.utils._pytree.register_pytree_node instead.\n",
      "  _torch_pytree._register_pytree_node(\n"
     ]
    }
   ],
   "source": [
    "import torch\n",
    "import numpy as np\n",
    "import os\n",
    "from utils import *\n",
    "from model import IngredientNet\n",
    "from loader import *\n",
    "from main import eval\n",
    "\n",
    "\n",
    "device = torch.device('cuda' if torch.cuda.is_available() else 'cpu')"
   ]
  },
  {
   "cell_type": "code",
   "execution_count": 2,
   "metadata": {},
   "outputs": [
    {
     "name": "stderr",
     "output_type": "stream",
     "text": [
      "pre-processing..: 100%|██████████| 507/507 [00:25<00:00, 19.64it/s]\n"
     ]
    }
   ],
   "source": [
    "model_path = './checkpoint/trained_model.pth_198'\n",
    "model, args = load_model(model_path)\n",
    "\n",
    "model.to(device)\n",
    "test_dataset = FoodDataset(mode=\"test\")"
   ]
  },
  {
   "cell_type": "code",
   "execution_count": 3,
   "metadata": {},
   "outputs": [
    {
     "name": "stdout",
     "output_type": "stream",
     "text": [
      "Test loss: 0.116, MAE: 426.391\n"
     ]
    }
   ],
   "source": [
    "#with variance\n",
    "\n",
    "test_dataloader = DataLoader(test_dataset, batch_size=args.batch_size, shuffle=True)\n",
    "avg_val_loss, MAE_metric = eval(model, device, args, test_dataloader)\n",
    "print('Test loss: %.3f, MAE: %.3f' % (avg_val_loss, MAE_metric))"
   ]
  },
  {
   "cell_type": "code",
   "execution_count": 4,
   "metadata": {},
   "outputs": [
    {
     "name": "stdout",
     "output_type": "stream",
     "text": [
      "Test loss: 0.115, MAE: 63.936\n"
     ]
    }
   ],
   "source": [
    "#without variance\n",
    "\n",
    "test_dataloader = DataLoader(test_dataset, batch_size=args.batch_size, shuffle=True)\n",
    "avg_val_loss, MAE_metric = eval(model, device, args, test_dataloader)\n",
    "print('Test loss: %.3f, MAE: %.3f' % (avg_val_loss, MAE_metric))"
   ]
  },
  {
   "cell_type": "code",
   "execution_count": 3,
   "metadata": {},
   "outputs": [
    {
     "name": "stdout",
     "output_type": "stream",
     "text": [
      "batch_error_summed: 496.5756631478812; l1_loss_summed: 496.5756631478812\n",
      "batch_error_summed: 790.7165222534687; l1_loss_summed: 790.7165222534687\n",
      "batch_error_summed: 562.6432700405217; l1_loss_summed: 562.6432700405217\n",
      "batch_error_summed: 1061.6544775562797; l1_loss_summed: 1061.6544775562797\n",
      "batch_error_summed: 555.0312868019741; l1_loss_summed: 555.0312868019741\n",
      "batch_error_summed: 579.4118189400868; l1_loss_summed: 579.4118189400868\n",
      "batch_error_summed: 369.7484184329338; l1_loss_summed: 369.7484184329338\n",
      "batch_error_summed: 3370.659650575709; l1_loss_summed: 3370.659650575709\n",
      "batch_error_summed: 2498.3935030085495; l1_loss_summed: 2498.3935030085495\n",
      "batch_error_summed: 2313.271176039394; l1_loss_summed: 2313.271176039394\n",
      "batch_error_summed: 398.18267608932126; l1_loss_summed: 398.18267608932126\n",
      "batch_error_summed: 1795.4819064402582; l1_loss_summed: 1795.4819064402582\n",
      "batch_error_summed: 449.21928527568036; l1_loss_summed: 449.21928527568036\n",
      "batch_error_summed: 1152.02995531838; l1_loss_summed: 1152.02995531838\n",
      "batch_error_summed: 567.0960900672487; l1_loss_summed: 567.0960900672487\n",
      "batch_error_summed: 597.0529806980012; l1_loss_summed: 597.0529806980012\n",
      "batch_error_summed: 1800.5766425768943; l1_loss_summed: 1800.5766425768943\n",
      "batch_error_summed: 364.98638227532194; l1_loss_summed: 364.98638227532194\n",
      "batch_error_summed: 1392.1360229960644; l1_loss_summed: 1392.1360229960644\n",
      "batch_error_summed: 1527.3245195095606; l1_loss_summed: 1527.3245195095606\n",
      "batch_error_summed: 1166.8859754216755; l1_loss_summed: 1166.8859754216755\n",
      "batch_error_summed: 508.40943348118543; l1_loss_summed: 508.40943348118543\n",
      "batch_error_summed: 329.8080820050312; l1_loss_summed: 329.8080820050312\n",
      "batch_error_summed: 934.8915379462346; l1_loss_summed: 934.8915379462346\n",
      "batch_error_summed: 1240.2986157382293; l1_loss_summed: 1240.2986157382293\n",
      "batch_error_summed: 498.63717893377316; l1_loss_summed: 498.63717893377316\n",
      "batch_error_summed: 477.49677013231735; l1_loss_summed: 477.49677013231735\n",
      "batch_error_summed: 932.0688850430477; l1_loss_summed: 932.0688850430477\n",
      "batch_error_summed: 597.7239737693058; l1_loss_summed: 597.7239737693058\n",
      "batch_error_summed: 1671.1167784101262; l1_loss_summed: 1671.1167784101262\n",
      "batch_error_summed: 1140.1416576903603; l1_loss_summed: 1140.1416576903603\n",
      "batch_error_summed: 375.4906845670272; l1_loss_summed: 375.4906845670272\n",
      "Test loss: 0.115, MAE: 64.132\n"
     ]
    }
   ],
   "source": [
    "#last tests\n",
    "\n",
    "test_dataloader = DataLoader(test_dataset, batch_size=args.batch_size, shuffle=True)\n",
    "avg_val_loss, MAE_metric = eval(model, device, args, test_dataloader)\n",
    "print('Test loss: %.3f, MAE: %.3f' % (avg_val_loss, MAE_metric))"
   ]
  },
  {
   "cell_type": "code",
   "execution_count": 4,
   "metadata": {},
   "outputs": [
    {
     "name": "stderr",
     "output_type": "stream",
     "text": [
      "pre-processing..:   0%|          | 0/64 [00:00<?, ?it/s]"
     ]
    },
    {
     "name": "stderr",
     "output_type": "stream",
     "text": [
      "pre-processing..: 100%|██████████| 64/64 [00:03<00:00, 20.24it/s]\n"
     ]
    },
    {
     "name": "stdout",
     "output_type": "stream",
     "text": [
      "small_train loss: 0.077, MAE: 484.367\n"
     ]
    }
   ],
   "source": [
    "small_train_dataset = FoodDataset(mode=\"small_train\")\n",
    "small_train_dataloader = DataLoader(small_train_dataset, batch_size=args.batch_size, shuffle=True)\n",
    "avg_val_loss, MAE_metric = eval(model, device, args, small_train_dataloader)\n",
    "print('small_train loss: %.3f, MAE: %.3f' % (avg_val_loss, MAE_metric))"
   ]
  },
  {
   "cell_type": "code",
   "execution_count": null,
   "metadata": {},
   "outputs": [],
   "source": [
    "torch.as_tensor([2.0, 3.0, 0.0])"
   ]
  }
 ],
 "metadata": {
  "kernelspec": {
   "display_name": "venv",
   "language": "python",
   "name": "python3"
  },
  "language_info": {
   "codemirror_mode": {
    "name": "ipython",
    "version": 3
   },
   "file_extension": ".py",
   "mimetype": "text/x-python",
   "name": "python",
   "nbconvert_exporter": "python",
   "pygments_lexer": "ipython3",
   "version": "3.9.18"
  }
 },
 "nbformat": 4,
 "nbformat_minor": 2
}
