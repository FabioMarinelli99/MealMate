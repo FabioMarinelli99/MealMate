{
 "cells": [
  {
   "cell_type": "code",
   "execution_count": 1,
   "metadata": {},
   "outputs": [],
   "source": [
    "import torch\n",
    "import numpy as np\n",
    "import os\n",
    "from utils import *\n",
    "from model import IngredientNet\n",
    "from loader import *\n",
    "from main import eval\n",
    "\n",
    "\n",
    "device = torch.device('cuda' if torch.cuda.is_available() else 'cpu')\n",
    "#device = torch.device('cpu')"
   ]
  },
  {
   "cell_type": "code",
   "execution_count": 4,
   "metadata": {},
   "outputs": [
    {
     "name": "stderr",
     "output_type": "stream",
     "text": [
      "pre-processing: 100%|██████████| 709/709 [00:11<00:00, 63.58it/s]\n"
     ]
    }
   ],
   "source": [
    "model_path = './checkpoint/trained_model_159.pth'\n",
    "model, args = load_model(model_path)\n",
    "\n",
    "model.to(device)\n",
    "test_dataset = FoodDataset(mode=\"test\")"
   ]
  },
  {
   "cell_type": "code",
   "execution_count": 5,
   "metadata": {},
   "outputs": [
    {
     "name": "stdout",
     "output_type": "stream",
     "text": [
      "Test loss: 34.025, f1: 0.246, precision:  0.238, recall: 0.253\n"
     ]
    }
   ],
   "source": [
    "test_dataloader = DataLoader(test_dataset, batch_size=args.batch_size, shuffle=True)\n",
    "avg_val_loss, f1, precision, recall = eval(model, device, args, test_dataloader)\n",
    "print('Test loss: %.3f, f1: %.3f, precision:  %.3f, recall: %.3f' % (avg_val_loss, f1, precision, recall))"
   ]
  }
 ],
 "metadata": {
  "kernelspec": {
   "display_name": "venv",
   "language": "python",
   "name": "python3"
  },
  "language_info": {
   "codemirror_mode": {
    "name": "ipython",
    "version": 3
   },
   "file_extension": ".py",
   "mimetype": "text/x-python",
   "name": "python",
   "nbconvert_exporter": "python",
   "pygments_lexer": "ipython3",
   "version": "3.9.18"
  }
 },
 "nbformat": 4,
 "nbformat_minor": 2
}
