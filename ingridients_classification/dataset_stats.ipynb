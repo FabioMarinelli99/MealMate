{
 "cells": [
  {
   "cell_type": "code",
   "execution_count": 2,
   "metadata": {},
   "outputs": [
    {
     "name": "stderr",
     "output_type": "stream",
     "text": [
      "pre-processing: 100%|██████████| 4059/4059 [00:25<00:00, 160.03it/s]\n"
     ]
    }
   ],
   "source": [
    "import os\n",
    "import torch\n",
    "import numpy as np\n",
    "from loader import FoodDataset\n",
    "import json\n",
    "\n",
    "train_dataset = FoodDataset(mode=\"train\", augument=1, cache=False)"
   ]
  },
  {
   "cell_type": "code",
   "execution_count": 10,
   "metadata": {},
   "outputs": [
    {
     "name": "stdout",
     "output_type": "stream",
     "text": [
      "torch.Size([2755, 556])\n",
      "Not empty classes:  tensor([ 1, 10,  5,  ..., 17, 18,  5])\n"
     ]
    }
   ],
   "source": [
    "labels = torch.stack(train_dataset.labels, dim=0)\n",
    "print(labels.shape)\n",
    "\n",
    "print(\"Not empty classes: \",torch.count_nonzero(labels, dim=1))\n",
    "\n",
    "summed = labels.sum(dim=0)\n",
    "\n",
    "new_idx = 0\n",
    "old_to_new = []\n",
    "new_to_old = []\n",
    "for i in range(len(summed)):\n",
    "    if summed[i] > 0:\n",
    "        new_to_old.append(i)\n",
    "        old_to_new.append(new_idx)\n",
    "        new_idx += 1\n",
    "    else:\n",
    "        old_to_new.append(None)\n",
    "\n",
    "mappings= {'new_to_old':new_to_old, 'old_to_new':old_to_new}\n",
    "\n",
    "\n",
    "with open('mappings.json', 'w') as json_file: \n",
    "    json.dump(mappings, json_file) \n"
   ]
  },
  {
   "cell_type": "code",
   "execution_count": 3,
   "metadata": {},
   "outputs": [
    {
     "name": "stdout",
     "output_type": "stream",
     "text": [
      "torch.Size([198])\n"
     ]
    }
   ],
   "source": [
    "print(train_dataset[0][1].shape)"
   ]
  }
 ],
 "metadata": {
  "kernelspec": {
   "display_name": "venv",
   "language": "python",
   "name": "python3"
  },
  "language_info": {
   "codemirror_mode": {
    "name": "ipython",
    "version": 3
   },
   "file_extension": ".py",
   "mimetype": "text/x-python",
   "name": "python",
   "nbconvert_exporter": "python",
   "pygments_lexer": "ipython3",
   "version": "3.9.18"
  }
 },
 "nbformat": 4,
 "nbformat_minor": 2
}
